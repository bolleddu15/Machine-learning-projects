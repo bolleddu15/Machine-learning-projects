{
  "nbformat": 4,
  "nbformat_minor": 0,
  "metadata": {
    "colab": {
      "provenance": []
    },
    "kernelspec": {
      "name": "python3",
      "display_name": "Python 3"
    },
    "language_info": {
      "name": "python"
    }
  },
  "cells": [
    {
      "cell_type": "code",
      "execution_count": null,
      "metadata": {
        "id": "OvTVsebUuMGi"
      },
      "outputs": [],
      "source": [
        "#tumor detection in brain using MRI images\n",
        "# we want to clearly implement some deep learning algorithms over this dataset and find out how health care industry is utilizing the AI technology"
      ]
    },
    {
      "cell_type": "code",
      "source": [
        "import pandas as pd\n",
        "import numpy as np\n",
        "import matplotlib.pyplot as plt\n",
        "from sklearn.linear_model import LinearRegression"
      ],
      "metadata": {
        "id": "kXI1fQrpudtF"
      },
      "execution_count": null,
      "outputs": []
    },
    {
      "cell_type": "code",
      "source": [],
      "metadata": {
        "colab": {
          "base_uri": "https://localhost:8080/"
        },
        "id": "IrLJVCIZvQSv",
        "outputId": "a11fb836-319e-4117-e03e-2a9c7d4538a7"
      },
      "execution_count": null,
      "outputs": [
        {
          "output_type": "stream",
          "name": "stdout",
          "text": [
            "Error opening image Brain Tumor/: cannot identify image file <_io.BytesIO object at 0x7fd8042cd490>\n"
          ]
        }
      ]
    },
    {
      "cell_type": "code",
      "source": [
        "df=pd.read_csv('/content/Brain Tumor.csv')\n",
        "print(df)"
      ],
      "metadata": {
        "colab": {
          "base_uri": "https://localhost:8080/"
        },
        "id": "HDa-px4Xutk2",
        "outputId": "778b976d-80aa-43d6-a119-fa72c56c8c78"
      },
      "execution_count": null,
      "outputs": [
        {
          "output_type": "stream",
          "name": "stdout",
          "text": [
            "          Image  Class       Mean     Variance  Standard Deviation   Entropy  \\\n",
            "0        Image1      0   6.535339   619.587845           24.891522  0.109059   \n",
            "1        Image2      0   8.749969   805.957634           28.389393  0.266538   \n",
            "2        Image3      1   7.341095  1143.808219           33.820234  0.001467   \n",
            "3        Image4      1   5.958145   959.711985           30.979219  0.001477   \n",
            "4        Image5      0   7.315231   729.540579           27.010009  0.146761   \n",
            "...         ...    ...        ...          ...                 ...       ...   \n",
            "3757  Image3758      0  21.234512  1208.850174           34.768523  0.063774   \n",
            "3758  Image3759      0  20.435349  1227.151440           35.030721  0.066763   \n",
            "3759  Image3760      0  18.011520  1151.582765           33.934978  0.068396   \n",
            "3760  Image3761      0  13.330429   945.732779           30.752769  0.087872   \n",
            "3761  Image3762      0   6.110138   480.884025           21.929068  0.118171   \n",
            "\n",
            "      Skewness   Kurtosis    Contrast    Energy       ASM  Homogeneity  \\\n",
            "0     4.276477  18.900575   98.613971  0.293314  0.086033     0.530941   \n",
            "1     3.718116  14.464618   63.858816  0.475051  0.225674     0.651352   \n",
            "2     5.061750  26.479563   81.867206  0.031917  0.001019     0.268275   \n",
            "3     5.677977  33.428845  151.229741  0.032024  0.001026     0.243851   \n",
            "4     4.283221  19.079108  174.988756  0.343849  0.118232     0.501140   \n",
            "...        ...        ...         ...       ...       ...          ...   \n",
            "3757  2.082079   4.647310  158.437600  0.220666  0.048693     0.487131   \n",
            "3758  2.144625   4.882034  161.158675  0.225931  0.051045     0.502712   \n",
            "3759  2.308349   5.579498  167.130118  0.228930  0.052409     0.492269   \n",
            "3760  2.732822   7.757570  223.812932  0.261527  0.068397     0.480064   \n",
            "3761  4.110669  17.538826  239.251388  0.306224  0.093773     0.494333   \n",
            "\n",
            "      Dissimilarity  Correlation     Coarseness  \n",
            "0          4.473346     0.981939  7.458341e-155  \n",
            "1          3.220072     0.988834  7.458341e-155  \n",
            "2          5.981800     0.978014  7.458341e-155  \n",
            "3          7.700919     0.964189  7.458341e-155  \n",
            "4          6.834689     0.972789  7.458341e-155  \n",
            "...             ...          ...            ...  \n",
            "3757       5.211739     0.950972  7.458341e-155  \n",
            "3758       5.083126     0.952749  7.458341e-155  \n",
            "3759       5.103700     0.952181  7.458341e-155  \n",
            "3760       6.439784     0.940898  7.458341e-155  \n",
            "3761       6.787329     0.938731  7.458341e-155  \n",
            "\n",
            "[3762 rows x 15 columns]\n"
          ]
        }
      ]
    }
  ]
}